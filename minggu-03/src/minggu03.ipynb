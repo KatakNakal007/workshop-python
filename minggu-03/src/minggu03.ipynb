{
  "nbformat": 4,
  "nbformat_minor": 0,
  "metadata": {
    "colab": {
      "provenance": [],
      "authorship_tag": "ABX9TyO0lWa7c1ONYbSirN8Gf3kl",
      "include_colab_link": true
    },
    "kernelspec": {
      "name": "python3",
      "display_name": "Python 3"
    },
    "language_info": {
      "name": "python"
    }
  },
  "cells": [
    {
      "cell_type": "markdown",
      "metadata": {
        "id": "view-in-github",
        "colab_type": "text"
      },
      "source": [
        "<a href=\"https://colab.research.google.com/github/KatakNakal007/workshop-python/blob/main/minggu-03/src/minggu03.ipynb\" target=\"_parent\"><img src=\"https://colab.research.google.com/assets/colab-badge.svg\" alt=\"Open In Colab\"/></a>"
      ]
    },
    {
      "cell_type": "markdown",
      "source": [
        "5.1. More on Lists"
      ],
      "metadata": {
        "id": "jTIy3YEDzRy8"
      }
    },
    {
      "cell_type": "code",
      "execution_count": null,
      "metadata": {
        "colab": {
          "base_uri": "https://localhost:8080/"
        },
        "id": "dQaF7fgGuaiA",
        "outputId": "f55bcd68-e3fd-4b8b-a92b-196119d11bc1"
      },
      "outputs": [
        {
          "output_type": "execute_result",
          "data": {
            "text/plain": [
              "2"
            ]
          },
          "metadata": {},
          "execution_count": 2
        }
      ],
      "source": [
        "fruits = ['orange', 'apple', 'pear', 'banana', 'kiwi', 'apple', 'banana']\n",
        "fruits.count('apple')"
      ]
    },
    {
      "cell_type": "code",
      "source": [
        "fruits.count('tangerine')"
      ],
      "metadata": {
        "colab": {
          "base_uri": "https://localhost:8080/"
        },
        "id": "7Q9uJj4qwkLC",
        "outputId": "26b2956c-9a07-4fa7-83f3-582dc0306a5c"
      },
      "execution_count": null,
      "outputs": [
        {
          "output_type": "execute_result",
          "data": {
            "text/plain": [
              "0"
            ]
          },
          "metadata": {},
          "execution_count": 4
        }
      ]
    },
    {
      "cell_type": "code",
      "source": [
        "fruits.index('banana')"
      ],
      "metadata": {
        "colab": {
          "base_uri": "https://localhost:8080/"
        },
        "id": "Itq_Y2VPwtGi",
        "outputId": "35993cc6-a9be-4b3c-a7dc-74dc5c77b7e2"
      },
      "execution_count": null,
      "outputs": [
        {
          "output_type": "execute_result",
          "data": {
            "text/plain": [
              "3"
            ]
          },
          "metadata": {},
          "execution_count": 5
        }
      ]
    },
    {
      "cell_type": "code",
      "source": [
        "fruits.index('banana', 4) # Find next banana starting at position 4"
      ],
      "metadata": {
        "colab": {
          "base_uri": "https://localhost:8080/"
        },
        "id": "HJTqNBCPw2Ez",
        "outputId": "16f885be-04b4-4951-a655-53e9c1d83ff7"
      },
      "execution_count": null,
      "outputs": [
        {
          "output_type": "execute_result",
          "data": {
            "text/plain": [
              "6"
            ]
          },
          "metadata": {},
          "execution_count": 6
        }
      ]
    },
    {
      "cell_type": "code",
      "source": [
        "fruits.reverse()\n",
        "fruits"
      ],
      "metadata": {
        "colab": {
          "base_uri": "https://localhost:8080/"
        },
        "id": "Ms0fQl8FxFr7",
        "outputId": "d450d07b-4e21-44fc-9ef5-deee7d0aab29"
      },
      "execution_count": null,
      "outputs": [
        {
          "output_type": "execute_result",
          "data": {
            "text/plain": [
              "['banana', 'apple', 'kiwi', 'banana', 'pear', 'apple', 'orange']"
            ]
          },
          "metadata": {},
          "execution_count": 9
        }
      ]
    },
    {
      "cell_type": "code",
      "source": [
        "fruits.append('grape')\n",
        "fruits"
      ],
      "metadata": {
        "colab": {
          "base_uri": "https://localhost:8080/"
        },
        "id": "5WK1tE3EyGue",
        "outputId": "111330eb-ddb8-4822-9f7c-684451cb9780"
      },
      "execution_count": null,
      "outputs": [
        {
          "output_type": "execute_result",
          "data": {
            "text/plain": [
              "['banana', 'apple', 'kiwi', 'banana', 'pear', 'apple', 'orange', 'grape']"
            ]
          },
          "metadata": {},
          "execution_count": 10
        }
      ]
    },
    {
      "cell_type": "code",
      "source": [
        "fruits.sort()\n",
        "fruits"
      ],
      "metadata": {
        "colab": {
          "base_uri": "https://localhost:8080/"
        },
        "id": "hsDydVgHyZUh",
        "outputId": "127ba883-80f1-4092-f830-cb9a89f1ecd0"
      },
      "execution_count": null,
      "outputs": [
        {
          "output_type": "execute_result",
          "data": {
            "text/plain": [
              "['apple', 'apple', 'banana', 'banana', 'grape', 'kiwi', 'orange', 'pear']"
            ]
          },
          "metadata": {},
          "execution_count": 12
        }
      ]
    },
    {
      "cell_type": "code",
      "source": [
        "fruits.pop()"
      ],
      "metadata": {
        "colab": {
          "base_uri": "https://localhost:8080/",
          "height": 35
        },
        "id": "RPTWNynoyjs0",
        "outputId": "b9937607-80f4-40bd-d423-d549218e1a06"
      },
      "execution_count": null,
      "outputs": [
        {
          "output_type": "execute_result",
          "data": {
            "text/plain": [
              "'pear'"
            ],
            "application/vnd.google.colaboratory.intrinsic+json": {
              "type": "string"
            }
          },
          "metadata": {},
          "execution_count": 13
        }
      ]
    },
    {
      "cell_type": "markdown",
      "source": [
        "5.1.1 Using List as Stacks"
      ],
      "metadata": {
        "id": "ixBgD7Bvys10"
      }
    },
    {
      "cell_type": "code",
      "source": [
        "stack = [3,4,5]\n",
        "stack.append(6)\n",
        "stack.append(7)\n",
        "stack"
      ],
      "metadata": {
        "colab": {
          "base_uri": "https://localhost:8080/"
        },
        "id": "JJm0B3Fsyxdi",
        "outputId": "51db984c-da54-4327-8ead-92fe0e6687e7"
      },
      "execution_count": null,
      "outputs": [
        {
          "output_type": "execute_result",
          "data": {
            "text/plain": [
              "[3, 4, 5, 6, 7]"
            ]
          },
          "metadata": {},
          "execution_count": 15
        }
      ]
    },
    {
      "cell_type": "code",
      "source": [
        "stack.pop()"
      ],
      "metadata": {
        "colab": {
          "base_uri": "https://localhost:8080/"
        },
        "id": "StGKQG9fy9B8",
        "outputId": "f6f9aaec-aaff-462f-ba6a-aa6586871213"
      },
      "execution_count": null,
      "outputs": [
        {
          "output_type": "execute_result",
          "data": {
            "text/plain": [
              "7"
            ]
          },
          "metadata": {},
          "execution_count": 16
        }
      ]
    },
    {
      "cell_type": "code",
      "source": [
        "stack"
      ],
      "metadata": {
        "colab": {
          "base_uri": "https://localhost:8080/"
        },
        "id": "_oish4oPzCNc",
        "outputId": "04d1554e-7ef3-4c74-ccb0-79504815b893"
      },
      "execution_count": null,
      "outputs": [
        {
          "output_type": "execute_result",
          "data": {
            "text/plain": [
              "[3, 4, 5, 6]"
            ]
          },
          "metadata": {},
          "execution_count": 17
        }
      ]
    },
    {
      "cell_type": "code",
      "source": [
        "stack.pop()"
      ],
      "metadata": {
        "colab": {
          "base_uri": "https://localhost:8080/"
        },
        "id": "egkEXaanzFxq",
        "outputId": "0695004b-be21-4564-9f5d-b2f1927821de"
      },
      "execution_count": null,
      "outputs": [
        {
          "output_type": "execute_result",
          "data": {
            "text/plain": [
              "6"
            ]
          },
          "metadata": {},
          "execution_count": 18
        }
      ]
    },
    {
      "cell_type": "code",
      "source": [
        "stack.pop()"
      ],
      "metadata": {
        "colab": {
          "base_uri": "https://localhost:8080/"
        },
        "id": "008c8bQJzIk-",
        "outputId": "5f3e3bce-f086-4613-e98f-30c65e5dc129"
      },
      "execution_count": null,
      "outputs": [
        {
          "output_type": "execute_result",
          "data": {
            "text/plain": [
              "5"
            ]
          },
          "metadata": {},
          "execution_count": 19
        }
      ]
    },
    {
      "cell_type": "code",
      "source": [
        "stack"
      ],
      "metadata": {
        "colab": {
          "base_uri": "https://localhost:8080/"
        },
        "id": "-FOn7qLHzLcQ",
        "outputId": "9ce8484f-4932-4e53-8845-19fb98e84464"
      },
      "execution_count": null,
      "outputs": [
        {
          "output_type": "execute_result",
          "data": {
            "text/plain": [
              "[3, 4]"
            ]
          },
          "metadata": {},
          "execution_count": 20
        }
      ]
    },
    {
      "cell_type": "markdown",
      "source": [
        "5.1.2. Using Lists as Queues"
      ],
      "metadata": {
        "id": "sieSgM6ize0H"
      }
    },
    {
      "cell_type": "code",
      "source": [
        "from collections import deque"
      ],
      "metadata": {
        "id": "es6zYBvgzkfu"
      },
      "execution_count": null,
      "outputs": []
    },
    {
      "cell_type": "code",
      "source": [
        "queue = deque([\"Eric\", \"John\", \"Michael\"])"
      ],
      "metadata": {
        "id": "lMMFMDLqzqRr"
      },
      "execution_count": null,
      "outputs": []
    },
    {
      "cell_type": "code",
      "source": [
        "queue.append(\"Terry\")           # Terry arrives"
      ],
      "metadata": {
        "id": "Isl-enVRz4Ls"
      },
      "execution_count": null,
      "outputs": []
    },
    {
      "cell_type": "code",
      "source": [
        "queue.append(\"Graham\")          # Graham arrives"
      ],
      "metadata": {
        "id": "hPPgzSXzz-yS"
      },
      "execution_count": null,
      "outputs": []
    },
    {
      "cell_type": "code",
      "source": [
        "queue.popleft()                 # The first to arrive now leaves"
      ],
      "metadata": {
        "colab": {
          "base_uri": "https://localhost:8080/",
          "height": 35
        },
        "id": "jLaXKo-K06IC",
        "outputId": "ee20b386-ebf2-4a7e-e6f5-eb722da3e71d"
      },
      "execution_count": null,
      "outputs": [
        {
          "output_type": "execute_result",
          "data": {
            "text/plain": [
              "'Eric'"
            ],
            "application/vnd.google.colaboratory.intrinsic+json": {
              "type": "string"
            }
          },
          "metadata": {},
          "execution_count": 40
        }
      ]
    },
    {
      "cell_type": "code",
      "source": [
        "queue.popleft()                 # The first to arrive now leaves            "
      ],
      "metadata": {
        "colab": {
          "base_uri": "https://localhost:8080/",
          "height": 35
        },
        "id": "nXucpS4f1TTu",
        "outputId": "25ebe661-39b0-47ce-8912-6826366bbf7a"
      },
      "execution_count": null,
      "outputs": [
        {
          "output_type": "execute_result",
          "data": {
            "text/plain": [
              "'John'"
            ],
            "application/vnd.google.colaboratory.intrinsic+json": {
              "type": "string"
            }
          },
          "metadata": {},
          "execution_count": 41
        }
      ]
    },
    {
      "cell_type": "code",
      "source": [
        "queue                           # Remaining queue in order of arrival"
      ],
      "metadata": {
        "colab": {
          "base_uri": "https://localhost:8080/"
        },
        "id": "-FE07Qq41eAd",
        "outputId": "21b4ca3b-ca48-4e59-e537-e4231dad2a88"
      },
      "execution_count": null,
      "outputs": [
        {
          "output_type": "execute_result",
          "data": {
            "text/plain": [
              "deque(['Michael', 'Terry', 'Terry', 'Graham'])"
            ]
          },
          "metadata": {},
          "execution_count": 42
        }
      ]
    },
    {
      "cell_type": "markdown",
      "source": [
        "5.1.3. List Comprehensions"
      ],
      "metadata": {
        "id": "6AoOm7Tj1ylM"
      }
    },
    {
      "cell_type": "code",
      "source": [
        "squares = []"
      ],
      "metadata": {
        "id": "NuEzgfKz12qY"
      },
      "execution_count": null,
      "outputs": []
    },
    {
      "cell_type": "code",
      "source": [
        "for x in range(10):\n",
        "  squares.append(x**2)"
      ],
      "metadata": {
        "id": "yzIakMAl17YJ"
      },
      "execution_count": null,
      "outputs": []
    },
    {
      "cell_type": "code",
      "source": [
        "squares"
      ],
      "metadata": {
        "colab": {
          "base_uri": "https://localhost:8080/"
        },
        "id": "41BXZ2UK2Cl9",
        "outputId": "1c899008-ba27-4a41-b45e-87647d08d62a"
      },
      "execution_count": null,
      "outputs": [
        {
          "output_type": "execute_result",
          "data": {
            "text/plain": [
              "[0, 1, 4, 9, 16, 25, 36, 49, 64, 81]"
            ]
          },
          "metadata": {},
          "execution_count": 45
        }
      ]
    },
    {
      "cell_type": "code",
      "source": [
        "squares = list(map(lambda x: x**2, range(10)))"
      ],
      "metadata": {
        "id": "vTBIfabe2Jv4"
      },
      "execution_count": null,
      "outputs": []
    },
    {
      "cell_type": "code",
      "source": [
        "squares = [x**2 for x in range(10)]"
      ],
      "metadata": {
        "id": "VQSjHavD2TRl"
      },
      "execution_count": null,
      "outputs": []
    },
    {
      "cell_type": "code",
      "source": [
        "[(x, y) for x in [1,2,3] for y in [3,1,4] if x != y]"
      ],
      "metadata": {
        "colab": {
          "base_uri": "https://localhost:8080/"
        },
        "id": "HgSrfZDh2ZRA",
        "outputId": "8758a397-3c10-49f2-9e80-4029ed217fce"
      },
      "execution_count": null,
      "outputs": [
        {
          "output_type": "execute_result",
          "data": {
            "text/plain": [
              "[(1, 3), (1, 4), (2, 3), (2, 1), (2, 4), (3, 1), (3, 4)]"
            ]
          },
          "metadata": {},
          "execution_count": 48
        }
      ]
    },
    {
      "cell_type": "code",
      "source": [
        "combs = []"
      ],
      "metadata": {
        "id": "lYXls4y52iCy"
      },
      "execution_count": null,
      "outputs": []
    },
    {
      "cell_type": "code",
      "source": [
        "for x in [1,2,3]:\n",
        "  for y in [3,1,4]:\n",
        "    if x != y:\n",
        "      combs.append((x, y))"
      ],
      "metadata": {
        "id": "U7EbPpC_2kwe"
      },
      "execution_count": null,
      "outputs": []
    },
    {
      "cell_type": "code",
      "source": [
        "combs"
      ],
      "metadata": {
        "colab": {
          "base_uri": "https://localhost:8080/"
        },
        "id": "QG61_lES2uog",
        "outputId": "b8999d0b-20b9-4a70-ef9c-01678222d7df"
      },
      "execution_count": null,
      "outputs": [
        {
          "output_type": "execute_result",
          "data": {
            "text/plain": [
              "[(1, 3), (1, 4), (2, 3), (2, 1), (2, 4), (3, 1), (3, 4)]"
            ]
          },
          "metadata": {},
          "execution_count": 51
        }
      ]
    },
    {
      "cell_type": "code",
      "source": [
        "vec = [-4, -2, 0, 2, 4]"
      ],
      "metadata": {
        "id": "c6JEiEHZ2w6V"
      },
      "execution_count": null,
      "outputs": []
    },
    {
      "cell_type": "code",
      "source": [
        "# create a new list with the values doubled"
      ],
      "metadata": {
        "id": "e-P9P14-3UYb"
      },
      "execution_count": null,
      "outputs": []
    },
    {
      "cell_type": "code",
      "source": [
        "[x*2 for x in vec]"
      ],
      "metadata": {
        "colab": {
          "base_uri": "https://localhost:8080/"
        },
        "id": "zz52E7313ZGn",
        "outputId": "928b9e85-854b-4774-b456-3a0e87bdb34c"
      },
      "execution_count": null,
      "outputs": [
        {
          "output_type": "execute_result",
          "data": {
            "text/plain": [
              "[-8, -4, 0, 4, 8]"
            ]
          },
          "metadata": {},
          "execution_count": 55
        }
      ]
    },
    {
      "cell_type": "code",
      "source": [
        "# filter the list to exclude negative numbers"
      ],
      "metadata": {
        "id": "UpLpTidi3l2l"
      },
      "execution_count": null,
      "outputs": []
    },
    {
      "cell_type": "code",
      "source": [
        "[x for x in vec if x >= 0]"
      ],
      "metadata": {
        "colab": {
          "base_uri": "https://localhost:8080/"
        },
        "id": "bcyB7Gux3qG7",
        "outputId": "758eed91-190c-4b89-b934-2c1539652479"
      },
      "execution_count": null,
      "outputs": [
        {
          "output_type": "execute_result",
          "data": {
            "text/plain": [
              "[0, 2, 4]"
            ]
          },
          "metadata": {},
          "execution_count": 57
        }
      ]
    },
    {
      "cell_type": "code",
      "source": [
        "[abs(x) for x in vec]"
      ],
      "metadata": {
        "colab": {
          "base_uri": "https://localhost:8080/"
        },
        "id": "FNMHb8uC3rsT",
        "outputId": "5923e8fb-eae7-4be6-c380-4c5c0b56489d"
      },
      "execution_count": null,
      "outputs": [
        {
          "output_type": "execute_result",
          "data": {
            "text/plain": [
              "[4, 2, 0, 2, 4]"
            ]
          },
          "metadata": {},
          "execution_count": 58
        }
      ]
    },
    {
      "cell_type": "code",
      "source": [
        "# call a method on each element"
      ],
      "metadata": {
        "id": "8ryJBsIK3-rX"
      },
      "execution_count": null,
      "outputs": []
    },
    {
      "cell_type": "code",
      "source": [
        "freshfruit = [' banana', ' loganberry ', 'passion fruit ']"
      ],
      "metadata": {
        "id": "bYHfqWVL4CQw"
      },
      "execution_count": null,
      "outputs": []
    },
    {
      "cell_type": "code",
      "source": [
        "[weapon.strip() for weapon in freshfruit]"
      ],
      "metadata": {
        "colab": {
          "base_uri": "https://localhost:8080/"
        },
        "id": "domnwV7u4Mt1",
        "outputId": "2b34b67b-3f3a-4916-d2cc-6d2bc80e8fa2"
      },
      "execution_count": null,
      "outputs": [
        {
          "output_type": "execute_result",
          "data": {
            "text/plain": [
              "['banana', 'loganberry', 'passion fruit']"
            ]
          },
          "metadata": {},
          "execution_count": 63
        }
      ]
    },
    {
      "cell_type": "code",
      "source": [
        "# create a list of 2-tuples like (number, square)"
      ],
      "metadata": {
        "id": "TZc5t6AK4Y0I"
      },
      "execution_count": null,
      "outputs": []
    },
    {
      "cell_type": "code",
      "source": [
        "[(x, x**2) for x in range(6)] "
      ],
      "metadata": {
        "colab": {
          "base_uri": "https://localhost:8080/"
        },
        "id": "SXQAs-y14ejD",
        "outputId": "f8f55317-b1d4-4b5c-e53d-377305cbcb48"
      },
      "execution_count": null,
      "outputs": [
        {
          "output_type": "execute_result",
          "data": {
            "text/plain": [
              "[(0, 0), (1, 1), (2, 4), (3, 9), (4, 16), (5, 25)]"
            ]
          },
          "metadata": {},
          "execution_count": 64
        }
      ]
    },
    {
      "cell_type": "code",
      "source": [
        "# the tuple must be parenthesized, otherwise an error is raised"
      ],
      "metadata": {
        "id": "i2lhwD-94lAC"
      },
      "execution_count": null,
      "outputs": []
    },
    {
      "cell_type": "code",
      "source": [
        "[x, x**2 for x in range(6)]"
      ],
      "metadata": {
        "colab": {
          "base_uri": "https://localhost:8080/",
          "height": 135
        },
        "id": "DtBNi-xD4tvD",
        "outputId": "678665b5-59a0-4fc6-9db4-6fae353b6c89"
      },
      "execution_count": null,
      "outputs": [
        {
          "output_type": "error",
          "ename": "SyntaxError",
          "evalue": "ignored",
          "traceback": [
            "\u001b[0;36m  File \u001b[0;32m\"<ipython-input-66-a4841c5cdd7d>\"\u001b[0;36m, line \u001b[0;32m1\u001b[0m\n\u001b[0;31m    [x, x**2 for x in range(6)]\u001b[0m\n\u001b[0m             ^\u001b[0m\n\u001b[0;31mSyntaxError\u001b[0m\u001b[0;31m:\u001b[0m invalid syntax\n"
          ]
        }
      ]
    },
    {
      "cell_type": "code",
      "source": [
        "# flatten a list using a listcomp with two 'for'"
      ],
      "metadata": {
        "id": "TFALZXmU45a_"
      },
      "execution_count": null,
      "outputs": []
    },
    {
      "cell_type": "code",
      "source": [
        "vec =[[1,2,3], [4,5,6], [7,8,9]]"
      ],
      "metadata": {
        "id": "sfl7IhAp4_AH"
      },
      "execution_count": null,
      "outputs": []
    },
    {
      "cell_type": "code",
      "source": [
        "[num for elem in vec for num in elem]"
      ],
      "metadata": {
        "colab": {
          "base_uri": "https://localhost:8080/"
        },
        "id": "tPCWcvGL5FeV",
        "outputId": "0521aa30-eda6-4d2f-8844-cb4b70f72cc1"
      },
      "execution_count": null,
      "outputs": [
        {
          "output_type": "execute_result",
          "data": {
            "text/plain": [
              "[1, 2, 3, 4, 5, 6, 7, 8, 9]"
            ]
          },
          "metadata": {},
          "execution_count": 69
        }
      ]
    },
    {
      "cell_type": "code",
      "source": [
        "from math import pi"
      ],
      "metadata": {
        "id": "UxjGVjKe5K2R"
      },
      "execution_count": null,
      "outputs": []
    },
    {
      "cell_type": "code",
      "source": [
        "[str(round(pi, i)) for i in range(1, 6)]"
      ],
      "metadata": {
        "colab": {
          "base_uri": "https://localhost:8080/"
        },
        "id": "Mt8M91Bc5Qwi",
        "outputId": "782f83cd-418c-45f0-a29e-432da42819a7"
      },
      "execution_count": null,
      "outputs": [
        {
          "output_type": "execute_result",
          "data": {
            "text/plain": [
              "['3.1', '3.14', '3.142', '3.1416', '3.14159']"
            ]
          },
          "metadata": {},
          "execution_count": 72
        }
      ]
    },
    {
      "cell_type": "markdown",
      "source": [
        "5.1.4. Nested List Comprehensions"
      ],
      "metadata": {
        "id": "KXXjb0uu5b5G"
      }
    },
    {
      "cell_type": "code",
      "source": [
        "matrix = [\n",
        "    [1, 2, 3, 4],\n",
        "    [5, 6, 7, 8],\n",
        "    [9, 10, 11, 12],\n",
        "]"
      ],
      "metadata": {
        "id": "VHD5IVAH5m8J"
      },
      "execution_count": null,
      "outputs": []
    },
    {
      "cell_type": "code",
      "source": [
        "[[row[i] for row in matrix] for i in range(4)]"
      ],
      "metadata": {
        "colab": {
          "base_uri": "https://localhost:8080/"
        },
        "id": "So5jBe6L5abc",
        "outputId": "c4f20072-9f1e-48a3-8a55-d30b7ef82afb"
      },
      "execution_count": null,
      "outputs": [
        {
          "output_type": "execute_result",
          "data": {
            "text/plain": [
              "[[1, 5, 9], [2, 6, 10], [3, 7, 11], [4, 8, 12]]"
            ]
          },
          "metadata": {},
          "execution_count": 74
        }
      ]
    },
    {
      "cell_type": "code",
      "source": [
        "transposed = []\n",
        "for i in range(4):\n",
        "  transposed.append([row[i] for row in matrix])\n",
        "transposed"
      ],
      "metadata": {
        "colab": {
          "base_uri": "https://localhost:8080/"
        },
        "id": "vflJyiu35_vU",
        "outputId": "f2e505cf-35fc-4878-a732-709b6f831035"
      },
      "execution_count": null,
      "outputs": [
        {
          "output_type": "execute_result",
          "data": {
            "text/plain": [
              "[[1, 5, 9], [2, 6, 10], [3, 7, 11], [4, 8, 12]]"
            ]
          },
          "metadata": {},
          "execution_count": 80
        }
      ]
    },
    {
      "cell_type": "code",
      "source": [
        "transposed = []\n",
        "for i in range(4):\n",
        "  # the following 3 lines implement the nested listcomp\n",
        "  transposed_row = []\n",
        "  for row in matrix:\n",
        "    transposed_row.append(row[i])\n",
        "  transposed.append(transposed_row)\n",
        "transposed"
      ],
      "metadata": {
        "colab": {
          "base_uri": "https://localhost:8080/"
        },
        "id": "oZAJwN346Ucf",
        "outputId": "2f63cfb3-1082-40ec-d125-c04085f936e2"
      },
      "execution_count": null,
      "outputs": [
        {
          "output_type": "execute_result",
          "data": {
            "text/plain": [
              "[[1, 5, 9], [2, 6, 10], [3, 7, 11], [4, 8, 12]]"
            ]
          },
          "metadata": {},
          "execution_count": 81
        }
      ]
    },
    {
      "cell_type": "code",
      "source": [
        "list(zip(*matrix))"
      ],
      "metadata": {
        "colab": {
          "base_uri": "https://localhost:8080/"
        },
        "id": "yylMUIOZ6-Ge",
        "outputId": "70c6843b-6c32-4c81-c997-d5b218f148d0"
      },
      "execution_count": null,
      "outputs": [
        {
          "output_type": "execute_result",
          "data": {
            "text/plain": [
              "[(1, 5, 9), (2, 6, 10), (3, 7, 11), (4, 8, 12)]"
            ]
          },
          "metadata": {},
          "execution_count": 82
        }
      ]
    },
    {
      "cell_type": "markdown",
      "source": [
        "5.2 The del statement"
      ],
      "metadata": {
        "id": "sqfD8rpg7kFa"
      }
    },
    {
      "cell_type": "code",
      "source": [
        "a = [-1, 1, 66.25, 333, 333, 1234.5]\n",
        "del a[0]\n",
        "a"
      ],
      "metadata": {
        "colab": {
          "base_uri": "https://localhost:8080/"
        },
        "id": "YAD1rUS27oPb",
        "outputId": "19a0681e-34fd-434d-908b-d94d6ebe158e"
      },
      "execution_count": null,
      "outputs": [
        {
          "output_type": "execute_result",
          "data": {
            "text/plain": [
              "[1, 66.25, 333, 333, 1234.5]"
            ]
          },
          "metadata": {},
          "execution_count": 83
        }
      ]
    },
    {
      "cell_type": "code",
      "source": [
        "del a[2:4]\n",
        "a"
      ],
      "metadata": {
        "colab": {
          "base_uri": "https://localhost:8080/"
        },
        "id": "9gimnNkZ7wxS",
        "outputId": "2c4c4c04-0b6c-4d9c-8b10-e3ec7a547607"
      },
      "execution_count": null,
      "outputs": [
        {
          "output_type": "execute_result",
          "data": {
            "text/plain": [
              "[1, 66.25, 1234.5]"
            ]
          },
          "metadata": {},
          "execution_count": 84
        }
      ]
    },
    {
      "cell_type": "code",
      "source": [
        "del a[:]\n",
        "a"
      ],
      "metadata": {
        "colab": {
          "base_uri": "https://localhost:8080/"
        },
        "id": "ECe5M4TK70pf",
        "outputId": "dc9eb317-c068-49dd-eeaa-b587c6ffab25"
      },
      "execution_count": null,
      "outputs": [
        {
          "output_type": "execute_result",
          "data": {
            "text/plain": [
              "[]"
            ]
          },
          "metadata": {},
          "execution_count": 85
        }
      ]
    },
    {
      "cell_type": "code",
      "source": [
        "del a"
      ],
      "metadata": {
        "id": "O3qADQSf743c"
      },
      "execution_count": null,
      "outputs": []
    },
    {
      "cell_type": "markdown",
      "source": [
        "5.3 Tuples and Squences"
      ],
      "metadata": {
        "id": "m8nd0HDF77yb"
      }
    },
    {
      "cell_type": "code",
      "source": [
        "t = 12345, 54321, 'hello!'\n",
        "t[0]"
      ],
      "metadata": {
        "colab": {
          "base_uri": "https://localhost:8080/"
        },
        "id": "RAwB8ad47_uF",
        "outputId": "6d2b5a76-7b34-488e-deb8-1ba1e630ab39"
      },
      "execution_count": null,
      "outputs": [
        {
          "output_type": "execute_result",
          "data": {
            "text/plain": [
              "12345"
            ]
          },
          "metadata": {},
          "execution_count": 87
        }
      ]
    },
    {
      "cell_type": "code",
      "source": [
        "t"
      ],
      "metadata": {
        "colab": {
          "base_uri": "https://localhost:8080/"
        },
        "id": "fRRHfQvM8FWL",
        "outputId": "25b85356-42eb-4cc1-83a2-3bc72bda986c"
      },
      "execution_count": null,
      "outputs": [
        {
          "output_type": "execute_result",
          "data": {
            "text/plain": [
              "(12345, 54321, 'hello!')"
            ]
          },
          "metadata": {},
          "execution_count": 88
        }
      ]
    },
    {
      "cell_type": "code",
      "source": [
        "# Tuples may be nested:\n",
        "u = t, (1, 2, 3, 4, 5)\n",
        "u"
      ],
      "metadata": {
        "colab": {
          "base_uri": "https://localhost:8080/"
        },
        "id": "dbV1gWOd8H7H",
        "outputId": "e7dd205e-6fb5-4823-a9d5-6e4ef44c1ba0"
      },
      "execution_count": null,
      "outputs": [
        {
          "output_type": "execute_result",
          "data": {
            "text/plain": [
              "((12345, 54321, 'hello!'), (1, 2, 3, 4, 5))"
            ]
          },
          "metadata": {},
          "execution_count": 89
        }
      ]
    },
    {
      "cell_type": "code",
      "source": [
        "# Tuples are immutable:\n",
        "t[0] = 88888"
      ],
      "metadata": {
        "colab": {
          "base_uri": "https://localhost:8080/",
          "height": 189
        },
        "id": "dDPcX9uV8SXJ",
        "outputId": "8038cefe-8b31-4349-fae1-94dc5549361b"
      },
      "execution_count": null,
      "outputs": [
        {
          "output_type": "error",
          "ename": "TypeError",
          "evalue": "ignored",
          "traceback": [
            "\u001b[0;31m---------------------------------------------------------------------------\u001b[0m",
            "\u001b[0;31mTypeError\u001b[0m                                 Traceback (most recent call last)",
            "\u001b[0;32m<ipython-input-90-9e19cce22619>\u001b[0m in \u001b[0;36m<module>\u001b[0;34m\u001b[0m\n\u001b[1;32m      1\u001b[0m \u001b[0;31m# Tuples are immutable:\u001b[0m\u001b[0;34m\u001b[0m\u001b[0;34m\u001b[0m\u001b[0m\n\u001b[0;32m----> 2\u001b[0;31m \u001b[0mt\u001b[0m\u001b[0;34m[\u001b[0m\u001b[0;36m0\u001b[0m\u001b[0;34m]\u001b[0m \u001b[0;34m=\u001b[0m \u001b[0;36m88888\u001b[0m\u001b[0;34m\u001b[0m\u001b[0;34m\u001b[0m\u001b[0m\n\u001b[0m",
            "\u001b[0;31mTypeError\u001b[0m: 'tuple' object does not support item assignment"
          ]
        }
      ]
    },
    {
      "cell_type": "code",
      "source": [
        "# but they can contain mutable objects:\n",
        "v = ([1, 2, 3], [3, 2, 1])\n",
        "v"
      ],
      "metadata": {
        "colab": {
          "base_uri": "https://localhost:8080/"
        },
        "id": "1xtY9Fz-8ZWQ",
        "outputId": "227c88ef-ec06-45d2-c521-ca3638db6f9c"
      },
      "execution_count": null,
      "outputs": [
        {
          "output_type": "execute_result",
          "data": {
            "text/plain": [
              "([1, 2, 3], [3, 2, 1])"
            ]
          },
          "metadata": {},
          "execution_count": 91
        }
      ]
    },
    {
      "cell_type": "code",
      "source": [
        "empty = ()\n",
        "singleton = 'hello',       # <-- note trailing comma\n",
        "len(empty)"
      ],
      "metadata": {
        "colab": {
          "base_uri": "https://localhost:8080/"
        },
        "id": "QXtYmbXX8jyb",
        "outputId": "c8674c26-eec4-4794-9714-f97e4ceef147"
      },
      "execution_count": null,
      "outputs": [
        {
          "output_type": "execute_result",
          "data": {
            "text/plain": [
              "0"
            ]
          },
          "metadata": {},
          "execution_count": 92
        }
      ]
    },
    {
      "cell_type": "code",
      "source": [
        "len(singleton)"
      ],
      "metadata": {
        "colab": {
          "base_uri": "https://localhost:8080/"
        },
        "id": "MFOF97Bd8ut7",
        "outputId": "8a32f9d5-ce7b-42af-d92b-f428a0c425e9"
      },
      "execution_count": null,
      "outputs": [
        {
          "output_type": "execute_result",
          "data": {
            "text/plain": [
              "1"
            ]
          },
          "metadata": {},
          "execution_count": 93
        }
      ]
    },
    {
      "cell_type": "code",
      "source": [
        "singleton"
      ],
      "metadata": {
        "colab": {
          "base_uri": "https://localhost:8080/"
        },
        "id": "1UP3EqHD8xsf",
        "outputId": "21b21469-f5c1-4eab-c2cf-b6cc38664d31"
      },
      "execution_count": null,
      "outputs": [
        {
          "output_type": "execute_result",
          "data": {
            "text/plain": [
              "('hello',)"
            ]
          },
          "metadata": {},
          "execution_count": 94
        }
      ]
    },
    {
      "cell_type": "code",
      "source": [
        "x, y, z = t"
      ],
      "metadata": {
        "id": "PD5dX4cg81wP"
      },
      "execution_count": null,
      "outputs": []
    },
    {
      "cell_type": "markdown",
      "source": [
        "5.4 Sets"
      ],
      "metadata": {
        "id": "6AaxVsh785vq"
      }
    },
    {
      "cell_type": "code",
      "source": [
        "basket = {'apple', 'orange', 'apple', 'pear', 'orange', 'banana'}\n",
        "print(basket)                     # show that duplicates have been removed"
      ],
      "metadata": {
        "colab": {
          "base_uri": "https://localhost:8080/"
        },
        "id": "_IBLmkjug4_s",
        "outputId": "25460a5b-b914-4b64-e18b-7c44b0869aed"
      },
      "execution_count": 1,
      "outputs": [
        {
          "output_type": "stream",
          "name": "stdout",
          "text": [
            "{'banana', 'pear', 'apple', 'orange'}\n"
          ]
        }
      ]
    },
    {
      "cell_type": "code",
      "source": [
        "'orange' in basket                # fast membership testing"
      ],
      "metadata": {
        "colab": {
          "base_uri": "https://localhost:8080/"
        },
        "id": "yOcxs4XlhH3q",
        "outputId": "dabd82eb-08fd-4c00-f473-fa82c7356175"
      },
      "execution_count": 2,
      "outputs": [
        {
          "output_type": "execute_result",
          "data": {
            "text/plain": [
              "True"
            ]
          },
          "metadata": {},
          "execution_count": 2
        }
      ]
    },
    {
      "cell_type": "code",
      "source": [
        "'crabgrass' in basket"
      ],
      "metadata": {
        "colab": {
          "base_uri": "https://localhost:8080/"
        },
        "id": "GY7-Xv1phLf3",
        "outputId": "cf81dcc4-da1a-4186-d234-e4665b7560d4"
      },
      "execution_count": 3,
      "outputs": [
        {
          "output_type": "execute_result",
          "data": {
            "text/plain": [
              "False"
            ]
          },
          "metadata": {},
          "execution_count": 3
        }
      ]
    },
    {
      "cell_type": "code",
      "source": [
        "# Demosntrate set operation on unique letters from two words"
      ],
      "metadata": {
        "id": "_gJPTaCOh2vq"
      },
      "execution_count": 7,
      "outputs": []
    },
    {
      "cell_type": "code",
      "source": [
        "a = set('abracadabra')\n",
        "b = set('alacazam')\n",
        "a                         # unique letters in a"
      ],
      "metadata": {
        "colab": {
          "base_uri": "https://localhost:8080/"
        },
        "id": "XzknGWPkhQz-",
        "outputId": "09530441-2bd5-419a-bb33-25477e9da1d5"
      },
      "execution_count": 5,
      "outputs": [
        {
          "output_type": "execute_result",
          "data": {
            "text/plain": [
              "{'a', 'b', 'c', 'd', 'r'}"
            ]
          },
          "metadata": {},
          "execution_count": 5
        }
      ]
    },
    {
      "cell_type": "code",
      "source": [
        "a - b                     # letters in a but not in b"
      ],
      "metadata": {
        "colab": {
          "base_uri": "https://localhost:8080/"
        },
        "id": "ih_xX_WWhZJS",
        "outputId": "199514c5-13b1-4a27-a6a2-31b0828f9a99"
      },
      "execution_count": 6,
      "outputs": [
        {
          "output_type": "execute_result",
          "data": {
            "text/plain": [
              "{'b', 'd', 'r'}"
            ]
          },
          "metadata": {},
          "execution_count": 6
        }
      ]
    },
    {
      "cell_type": "code",
      "source": [
        "a | b                     # letters in a or b or both"
      ],
      "metadata": {
        "colab": {
          "base_uri": "https://localhost:8080/"
        },
        "id": "5oCYR-q-h-Q6",
        "outputId": "0926beb1-2660-4e2a-a2e7-b04b3d9651e2"
      },
      "execution_count": 8,
      "outputs": [
        {
          "output_type": "execute_result",
          "data": {
            "text/plain": [
              "{'a', 'b', 'c', 'd', 'l', 'm', 'r', 'z'}"
            ]
          },
          "metadata": {},
          "execution_count": 8
        }
      ]
    },
    {
      "cell_type": "code",
      "source": [
        "a & b                     # letters in both a and b"
      ],
      "metadata": {
        "colab": {
          "base_uri": "https://localhost:8080/"
        },
        "id": "k5wk7FXXiTvO",
        "outputId": "97e2561d-df85-4388-e721-7d5c5ea75f11"
      },
      "execution_count": 9,
      "outputs": [
        {
          "output_type": "execute_result",
          "data": {
            "text/plain": [
              "{'a', 'c'}"
            ]
          },
          "metadata": {},
          "execution_count": 9
        }
      ]
    },
    {
      "cell_type": "code",
      "source": [
        "a ^ b                     # letters in a or b but not both"
      ],
      "metadata": {
        "colab": {
          "base_uri": "https://localhost:8080/"
        },
        "id": "TI7J_lPCiW72",
        "outputId": "f70ca4e9-abcc-4ccd-8200-a0b4e62e8864"
      },
      "execution_count": 13,
      "outputs": [
        {
          "output_type": "execute_result",
          "data": {
            "text/plain": [
              "{'b', 'd', 'l', 'm', 'r', 'z'}"
            ]
          },
          "metadata": {},
          "execution_count": 13
        }
      ]
    },
    {
      "cell_type": "code",
      "source": [
        "a = {x for x in 'abracadabra' if x not in 'abc'}\n",
        "a"
      ],
      "metadata": {
        "colab": {
          "base_uri": "https://localhost:8080/"
        },
        "id": "ZNaFgcSHiisQ",
        "outputId": "485c5b18-8ab2-4859-f259-5f20fd89fb0b"
      },
      "execution_count": 14,
      "outputs": [
        {
          "output_type": "execute_result",
          "data": {
            "text/plain": [
              "{'d', 'r'}"
            ]
          },
          "metadata": {},
          "execution_count": 14
        }
      ]
    },
    {
      "cell_type": "markdown",
      "source": [
        "5.5 Dictionaries"
      ],
      "metadata": {
        "id": "6agm815li5eo"
      }
    },
    {
      "cell_type": "code",
      "source": [
        "tel = {'jack': 4098, 'sape': 4139}\n",
        "tel['guido'] = 4127\n",
        "tel"
      ],
      "metadata": {
        "colab": {
          "base_uri": "https://localhost:8080/"
        },
        "id": "Bw-X2Rzri8h1",
        "outputId": "b3b143a0-79e4-40ef-8d49-802f57a69334"
      },
      "execution_count": 15,
      "outputs": [
        {
          "output_type": "execute_result",
          "data": {
            "text/plain": [
              "{'jack': 4098, 'sape': 4139, 'guido': 4127}"
            ]
          },
          "metadata": {},
          "execution_count": 15
        }
      ]
    },
    {
      "cell_type": "code",
      "source": [
        "tel ['jack']"
      ],
      "metadata": {
        "colab": {
          "base_uri": "https://localhost:8080/"
        },
        "id": "vf-oAsiHjIeb",
        "outputId": "a745093c-0d57-46a0-e104-1c2b380454f1"
      },
      "execution_count": 16,
      "outputs": [
        {
          "output_type": "execute_result",
          "data": {
            "text/plain": [
              "4098"
            ]
          },
          "metadata": {},
          "execution_count": 16
        }
      ]
    },
    {
      "cell_type": "code",
      "source": [
        "del tel['sape']\n",
        "tel['irv'] = 4127\n",
        "tel"
      ],
      "metadata": {
        "colab": {
          "base_uri": "https://localhost:8080/"
        },
        "id": "pjuGoi8pjNNA",
        "outputId": "30ef2ff1-adea-4761-ab56-ad64c57d0a2d"
      },
      "execution_count": 17,
      "outputs": [
        {
          "output_type": "execute_result",
          "data": {
            "text/plain": [
              "{'jack': 4098, 'guido': 4127, 'irv': 4127}"
            ]
          },
          "metadata": {},
          "execution_count": 17
        }
      ]
    },
    {
      "cell_type": "code",
      "source": [
        "list(tel)"
      ],
      "metadata": {
        "colab": {
          "base_uri": "https://localhost:8080/"
        },
        "id": "Iy7kmwRdjUQF",
        "outputId": "9183d5bd-c75e-43e5-87ed-daf0037f89af"
      },
      "execution_count": 18,
      "outputs": [
        {
          "output_type": "execute_result",
          "data": {
            "text/plain": [
              "['jack', 'guido', 'irv']"
            ]
          },
          "metadata": {},
          "execution_count": 18
        }
      ]
    },
    {
      "cell_type": "code",
      "source": [
        "sorted(tel)"
      ],
      "metadata": {
        "colab": {
          "base_uri": "https://localhost:8080/"
        },
        "id": "VsCXPSYljWt7",
        "outputId": "1d1a080e-3223-4760-f5b5-7891d3ae3361"
      },
      "execution_count": 19,
      "outputs": [
        {
          "output_type": "execute_result",
          "data": {
            "text/plain": [
              "['guido', 'irv', 'jack']"
            ]
          },
          "metadata": {},
          "execution_count": 19
        }
      ]
    },
    {
      "cell_type": "code",
      "source": [
        "'guido' in tel"
      ],
      "metadata": {
        "colab": {
          "base_uri": "https://localhost:8080/"
        },
        "id": "wOTtxwdgjZZ2",
        "outputId": "1ae13726-1355-44cc-ead2-d3c9dbab2fad"
      },
      "execution_count": 20,
      "outputs": [
        {
          "output_type": "execute_result",
          "data": {
            "text/plain": [
              "True"
            ]
          },
          "metadata": {},
          "execution_count": 20
        }
      ]
    },
    {
      "cell_type": "code",
      "source": [
        "'jack' not in tel"
      ],
      "metadata": {
        "colab": {
          "base_uri": "https://localhost:8080/"
        },
        "id": "llrjWcbqjdWN",
        "outputId": "d80de147-b782-4b8b-dea8-c4b535d49d50"
      },
      "execution_count": 21,
      "outputs": [
        {
          "output_type": "execute_result",
          "data": {
            "text/plain": [
              "False"
            ]
          },
          "metadata": {},
          "execution_count": 21
        }
      ]
    },
    {
      "cell_type": "code",
      "source": [
        "dict([('sape', 4139), ('guido', 4127), ('jack', 4098)])"
      ],
      "metadata": {
        "colab": {
          "base_uri": "https://localhost:8080/"
        },
        "id": "pbnwavDJjjab",
        "outputId": "01bb67b3-3cfd-4d1d-d7b9-01bfc514cebd"
      },
      "execution_count": 22,
      "outputs": [
        {
          "output_type": "execute_result",
          "data": {
            "text/plain": [
              "{'sape': 4139, 'guido': 4127, 'jack': 4098}"
            ]
          },
          "metadata": {},
          "execution_count": 22
        }
      ]
    },
    {
      "cell_type": "code",
      "source": [
        "{x: x**2 for x in (2, 4, 6)}"
      ],
      "metadata": {
        "colab": {
          "base_uri": "https://localhost:8080/"
        },
        "id": "E275223yjt7j",
        "outputId": "98d982a0-f58f-4cf0-e756-faa9f2e90357"
      },
      "execution_count": 23,
      "outputs": [
        {
          "output_type": "execute_result",
          "data": {
            "text/plain": [
              "{2: 4, 4: 16, 6: 36}"
            ]
          },
          "metadata": {},
          "execution_count": 23
        }
      ]
    },
    {
      "cell_type": "code",
      "source": [
        "dict(sape=4139, guido=4127, jack=4098)"
      ],
      "metadata": {
        "colab": {
          "base_uri": "https://localhost:8080/"
        },
        "id": "O7lIOjHCjz9F",
        "outputId": "1d58eef2-8e8d-47a1-9990-a462712b2cbf"
      },
      "execution_count": 24,
      "outputs": [
        {
          "output_type": "execute_result",
          "data": {
            "text/plain": [
              "{'sape': 4139, 'guido': 4127, 'jack': 4098}"
            ]
          },
          "metadata": {},
          "execution_count": 24
        }
      ]
    },
    {
      "cell_type": "markdown",
      "source": [
        "5.6. Looping Techniques"
      ],
      "metadata": {
        "id": "C6ecDKeBj-sH"
      }
    },
    {
      "cell_type": "code",
      "source": [
        "knights = {'gallahad': 'the pure', 'robin': 'the brave'}\n",
        "for k, v in knights.items():\n",
        "  print(k, v)"
      ],
      "metadata": {
        "colab": {
          "base_uri": "https://localhost:8080/"
        },
        "id": "xHnD0O7fj9v-",
        "outputId": "5f120557-a989-46f7-acde-0d97e3daea99"
      },
      "execution_count": 25,
      "outputs": [
        {
          "output_type": "stream",
          "name": "stdout",
          "text": [
            "gallahad the pure\n",
            "robin the brave\n"
          ]
        }
      ]
    },
    {
      "cell_type": "code",
      "source": [
        "for i, v in enumerate(['tic', 'tac', 'toe']):\n",
        "  print(i, v)"
      ],
      "metadata": {
        "colab": {
          "base_uri": "https://localhost:8080/"
        },
        "id": "kzBNV3DekO5W",
        "outputId": "843473a4-b3ff-41a4-842f-ff8b32ade882"
      },
      "execution_count": 26,
      "outputs": [
        {
          "output_type": "stream",
          "name": "stdout",
          "text": [
            "0 tic\n",
            "1 tac\n",
            "2 toe\n"
          ]
        }
      ]
    },
    {
      "cell_type": "code",
      "source": [
        "questions = ['name', 'quest', 'favorite color']\n",
        "answers = ['lancelot', 'the holy grail', 'blue']\n",
        "for q, a in zip(questions, answers):\n",
        "  print('What is your {0}? It is {1}.'.format(q, a))"
      ],
      "metadata": {
        "colab": {
          "base_uri": "https://localhost:8080/"
        },
        "id": "sHU39IzKkgOo",
        "outputId": "a26d80cb-2590-45b0-f76d-e25b017de73b"
      },
      "execution_count": 27,
      "outputs": [
        {
          "output_type": "stream",
          "name": "stdout",
          "text": [
            "What is your name? It is lancelot.\n",
            "What is your quest? It is the holy grail.\n",
            "What is your favorite color? It is blue.\n"
          ]
        }
      ]
    },
    {
      "cell_type": "code",
      "source": [
        "for i in reversed(range(1, 10, 2)):\n",
        "  print(i)"
      ],
      "metadata": {
        "colab": {
          "base_uri": "https://localhost:8080/"
        },
        "id": "GW-bOoF-k9In",
        "outputId": "b24b11b7-c618-4020-eb65-33a220503d14"
      },
      "execution_count": 29,
      "outputs": [
        {
          "output_type": "stream",
          "name": "stdout",
          "text": [
            "9\n",
            "7\n",
            "5\n",
            "3\n",
            "1\n"
          ]
        }
      ]
    },
    {
      "cell_type": "code",
      "source": [
        "basket = ['apple', 'orange', 'apple', 'pear', 'orange', 'banana']\n",
        "for i in sorted(basket):\n",
        "  print(i)"
      ],
      "metadata": {
        "colab": {
          "base_uri": "https://localhost:8080/"
        },
        "id": "jWLwu3y8lC0D",
        "outputId": "b048298d-5154-436a-e22d-b859b21e78ed"
      },
      "execution_count": 30,
      "outputs": [
        {
          "output_type": "stream",
          "name": "stdout",
          "text": [
            "apple\n",
            "apple\n",
            "banana\n",
            "orange\n",
            "orange\n",
            "pear\n"
          ]
        }
      ]
    },
    {
      "cell_type": "code",
      "source": [
        "basket = ['apple', 'orange', 'apple', 'pear', 'orange', 'banana']\n",
        "for f in sorted(set(basket)):\n",
        "  print(f)"
      ],
      "metadata": {
        "colab": {
          "base_uri": "https://localhost:8080/"
        },
        "id": "nQCIJmfQlTHa",
        "outputId": "4181207c-eb73-46d6-9ca5-6a308bc0dab3"
      },
      "execution_count": 31,
      "outputs": [
        {
          "output_type": "stream",
          "name": "stdout",
          "text": [
            "apple\n",
            "banana\n",
            "orange\n",
            "pear\n"
          ]
        }
      ]
    },
    {
      "cell_type": "code",
      "source": [
        "import math\n",
        "raw_data = [56.2, float('NaN'), 51.7, 55.3, 52.5, float('NaN'), 47.8]\n",
        "filtered_data = []\n",
        "for value in raw_data:\n",
        "  if not math.isnan(value):\n",
        "    filtered_data.append(value)\n",
        "filtered_data"
      ],
      "metadata": {
        "colab": {
          "base_uri": "https://localhost:8080/"
        },
        "id": "bosXcZDYlev_",
        "outputId": "5b07206f-15c1-4e85-a75d-1da22269330f"
      },
      "execution_count": 32,
      "outputs": [
        {
          "output_type": "execute_result",
          "data": {
            "text/plain": [
              "[56.2, 51.7, 55.3, 52.5, 47.8]"
            ]
          },
          "metadata": {},
          "execution_count": 32
        }
      ]
    },
    {
      "cell_type": "markdown",
      "source": [
        "5.7. More on Conditions"
      ],
      "metadata": {
        "id": "sjf1-rvZl8MM"
      }
    },
    {
      "cell_type": "code",
      "source": [
        "string1, string2, string3 = '', 'Trondheim', 'Hammer Dance'\n",
        "non_null = string1 or string2 or string3\n",
        "non_null"
      ],
      "metadata": {
        "colab": {
          "base_uri": "https://localhost:8080/",
          "height": 35
        },
        "id": "uQgHkIGWl7AA",
        "outputId": "0e141f53-0577-4231-a080-04c1cb09404f"
      },
      "execution_count": 33,
      "outputs": [
        {
          "output_type": "execute_result",
          "data": {
            "text/plain": [
              "'Trondheim'"
            ],
            "application/vnd.google.colaboratory.intrinsic+json": {
              "type": "string"
            }
          },
          "metadata": {},
          "execution_count": 33
        }
      ]
    },
    {
      "cell_type": "markdown",
      "source": [
        "5.8. Comparing Sequences and Othe Types"
      ],
      "metadata": {
        "id": "0WW_psHbmNMb"
      }
    },
    {
      "cell_type": "code",
      "source": [],
      "metadata": {
        "id": "U52zh8fSmTPg"
      },
      "execution_count": null,
      "outputs": []
    }
  ]
}